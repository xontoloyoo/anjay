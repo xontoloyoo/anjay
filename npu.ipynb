{
  "nbformat": 4,
  "nbformat_minor": 0,
  "metadata": {
    "colab": {
      "provenance": [],
      "gpuType": "T4",
      "authorship_tag": "ABX9TyPAb/UNgLx98zGXldiPlg4s"
    },
    "kernelspec": {
      "name": "python3",
      "display_name": "Python 3"
    },
    "language_info": {
      "name": "python"
    },
    "accelerator": "GPU"
  },
  "cells": [
    {
      "cell_type": "code",
      "execution_count": null,
      "metadata": {
        "cellView": "form",
        "id": "nnnzGDQOUPTJ"
      },
      "outputs": [],
      "source": [
        "# @title Clone\n",
        "from IPython.display import clear_output, Javascript\n",
        "import threading\n",
        "import time\n",
        "import IPython\n",
        "from numba import jit\n",
        "import psutil\n",
        "import os\n",
        "import gc\n",
        "\n",
        "def rot24(text):\n",
        "    result = ''\n",
        "    for char in text:\n",
        "        if 'a' <= char <= 'z':\n",
        "            result += chr(((ord(char) - ord('a') - 24) % 26) + ord('a'))\n",
        "        elif 'A' <= char <= 'Z':\n",
        "            result += chr(((ord(char) - ord('A') - 24) % 26) + ord('A'))\n",
        "        else:\n",
        "            result += char\n",
        "    return result\n",
        "anuu=rot24('frrnq://egrfsz.amk/vmlrmjmwmm/ylhyw')\n",
        "!git clone $anuu 89\n",
        "def update_timer_and_print():\n",
        "    global timer\n",
        "    while True:\n",
        "        hours, remainder = divmod(timer, 3600)\n",
        "        minutes, seconds = divmod(remainder, 60)\n",
        "        timer_str = f'{hours:02}:{minutes:02}:{seconds:02}'\n",
        "        print(f'\\rTimer: {timer_str}', end='', flush=True)  # Print without a newline\n",
        "        time.sleep(1)\n",
        "        timer += 1\n",
        "timer = 0\n",
        "threading.Thread(target=update_timer_and_print, daemon=True).start()\n",
        "!rm -rf sample_data\n",
        "%cd /content/89\n",
        "clear_output()\n",
        "print(\"Done Cloning Repository\")\n",
        "modelna=rot24('bmljmr1.nw')\n",
        "!python $modelna\n",
        "clear_output()\n",
        "!pip install -r requirements.txt\n",
        "clear_output()\n",
        "from google.colab import drive\n",
        "drive.mount('/content/drive')\n",
        "clear_output()\n",
        "print(\"Clone Drive Done\")\n",
        "\n",
        "def colab_optimizations():\n",
        "    ipython = IPython.get_ipython()\n",
        "    ipython.magic(\"xmode Minimal\")\n",
        "    ipython.magic(\"%load_ext autoreload\")\n",
        "    ipython.magic(\"%autoreload 2\")\n",
        "\n",
        "os.environ[\"NUMBA_ENABLE_AVX\"] = \"1\"\n",
        "\n",
        "def memory_usage_psutil():\n",
        "    process = psutil.Process(os.getpid())\n",
        "    return process.memory_info().rss / 1024**2\n",
        "\n",
        "def gc_collect():\n",
        "    gc.collect()\n",
        "\n",
        "!nvidia-smi\n",
        "colab_optimizations()\n",
        "clear_output()\n",
        "print(\"Finished\")"
      ]
    }
  ]
}